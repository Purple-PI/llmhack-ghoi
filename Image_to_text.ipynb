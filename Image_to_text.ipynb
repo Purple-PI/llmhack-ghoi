{
 "cells": [
  {
   "cell_type": "code",
   "execution_count": null,
   "metadata": {},
   "outputs": [],
   "source": [
    "import requests\n",
    "import torch\n",
    "from PIL import Image\n",
    "from io import BytesIO\n",
    "\n",
    "from transformers import AutoProcessor, AutoModelForVision2Seq\n",
    "from transformers.image_utils import load_image\n",
    "\n",
    "# DEVICE = \"cuda:0\"\n",
    "DEVICE = \"mps\"\n",
    "\n",
    "\n",
    "# Load an image\n",
    "image_uri = \"http://images.cocodataset.org/val2017/000000039769.jpg\"\n",
    "image = Image.open(BytesIO(requests.get(image_uri).content))\n",
    "\n",
    "\n",
    "\n",
    "model = AutoModelForVision2Seq.from_pretrained(\n",
    "    \"HuggingFaceM4/idefics2-8b\",\n",
    "# +    torch_dtype=torch.float16,    \n",
    ")\n",
    "\n",
    "\n",
    "\n",
    "processor = AutoProcessor.from_pretrained(\"HuggingFaceM4/idefics2-8b\")\n",
    "model = AutoModelForPreTraining.from_pretrained(\"HuggingFaceM4/idefics2-8b\").to(DEVICE)\n",
    "\n"
   ]
  }
 ],
 "metadata": {
  "kernelspec": {
   "display_name": "llm_hackaton_env",
   "language": "python",
   "name": "python3"
  },
  "language_info": {
   "codemirror_mode": {
    "name": "ipython",
    "version": 3
   },
   "file_extension": ".py",
   "mimetype": "text/x-python",
   "name": "python",
   "nbconvert_exporter": "python",
   "pygments_lexer": "ipython3",
   "version": "3.11.8"
  }
 },
 "nbformat": 4,
 "nbformat_minor": 2
}
